{
  "cells": [
    {
      "cell_type": "markdown",
      "metadata": {
        "id": "mK4vVG-TWSNN"
      },
      "source": [
        "<img src='http://www-scf.usc.edu/~ghasemig/images/sharif.png' alt=\"SUT logo\" width=200 height=200 align=left class=\"saturate\" >\n",
        "\n",
        "<br>\n",
        "<font face=\"Times New Roman\">\n",
        "<div dir=ltr align=center>\n",
        "<font color=0F5298 size=7>\n",
        "    Introduction to Machine Learning <br>\n",
        "<font color=2565AE size=5>\n",
        "    Computer Engineering Department <br>\n",
        "    Fall 2022<br>\n",
        "<font color=3C99D size=5>\n",
        "    Homework 4: Practical - Convolutional Neural Networks <br>\n",
        "<font color=696880 size=4>\n",
        "    Arian Amani\n",
        "    \n",
        "    \n",
        "____\n"
      ]
    },
    {
      "cell_type": "markdown",
      "metadata": {
        "id": "j01B1kR7WSNZ"
      },
      "source": [
        "### Full Name : Amir Hosein Rahmati\n",
        "### Student Number : 99103922\n",
        "___"
      ]
    },
    {
      "cell_type": "markdown",
      "metadata": {
        "id": "HYRi0wk2WSNa"
      },
      "source": [
        "# Problem\n",
        "This assignment uses PyTorch to build and implement a residual CNN for solving a classification problem. Our goal is to classify handwritten digits from 0 to 9 on the MNIST dataset. You can try larger and more fun datasets if you have access to Google Colab. (for example: [facial emotion detection](https://www.kaggle.com/datasets/msambare/fer2013))\n",
        "\n",
        "* It is highly recommended to run this notebook on Google Colab so that you can utilize its GPU.\n",
        "* If you need to change the inputs of functions you are implementing, or want to add new cells or functions, feel free to do so."
      ]
    },
    {
      "cell_type": "markdown",
      "metadata": {
        "id": "W0bGV8AXO3Yx"
      },
      "source": [
        "# Setup"
      ]
    },
    {
      "cell_type": "code",
      "execution_count": 86,
      "metadata": {
        "id": "CdrZr6HWO2p8"
      },
      "outputs": [],
      "source": [
        "import torch\n",
        "from torch import nn\n",
        "from torch.nn import functional as F\n",
        "from torch.utils.data import Dataset, DataLoader, random_split\n",
        "from torchvision import transforms, datasets\n",
        "\n",
        "from tqdm import tqdm\n",
        "import numpy as np\n",
        "import pandas as pd\n",
        "import matplotlib.pyplot as plt\n",
        "\n",
        "plt.style.use('ggplot')\n",
        "###########################################################\n",
        "##  If you need any other packages, import them below    ##\n",
        "###########################################################\n",
        "from sklearn.metrics import confusion_matrix\n",
        "import seaborn as sn\n"
      ]
    },
    {
      "cell_type": "code",
      "execution_count": 2,
      "metadata": {
        "colab": {
          "base_uri": "https://localhost:8080/"
        },
        "id": "xH543-2GWSNc",
        "outputId": "a92e0f20-1948-4873-da7e-c6f263d53c30"
      },
      "outputs": [
        {
          "data": {
            "text/plain": [
              "device(type='cuda')"
            ]
          },
          "execution_count": 2,
          "metadata": {},
          "output_type": "execute_result"
        }
      ],
      "source": [
        "device = torch.device('cuda' if torch.cuda.is_available() else 'cpu')\n",
        "device"
      ]
    },
    {
      "cell_type": "markdown",
      "metadata": {
        "id": "gzydGC2SNuAu"
      },
      "source": [
        "# Prepare The Data (10 Points)"
      ]
    },
    {
      "cell_type": "markdown",
      "metadata": {
        "id": "HQky1w9iWSNd"
      },
      "source": [
        "Write a composed transformation to transform our dataset's PIL images to tensors and normalize them with ```mean: 0.1307``` and ```std: 0.3081```: "
      ]
    },
    {
      "cell_type": "markdown",
      "metadata": {
        "id": "IsUzcpu1WSNd"
      },
      "source": [
        "<details>\n",
        "<summary>Hint</summary>\n",
        "<br>\n",
        "<a href=\"https://pytorch.org/vision/stable/generated/torchvision.transforms.Compose.html\">torchvision.transforms.Compose</a>\n",
        "</details>"
      ]
    },
    {
      "cell_type": "code",
      "execution_count": 9,
      "metadata": {
        "id": "1fp-lJrxWSNe"
      },
      "outputs": [],
      "source": [
        "###############################################################\n",
        "##                Compose your transformations               ##\n",
        "###############################################################\n",
        "transformation = transforms.Compose([\n",
        "    transforms.ToTensor(),\n",
        "    transforms.Normalize((0.1307,),(0.3081,))\n",
        "])"
      ]
    },
    {
      "cell_type": "markdown",
      "metadata": {
        "id": "ANdYnd04N0ze"
      },
      "source": [
        "Split the downloaded MNIST dataset into two dataloaders ```train``` & ```val```"
      ]
    },
    {
      "cell_type": "code",
      "execution_count": 10,
      "metadata": {
        "colab": {
          "base_uri": "https://localhost:8080/"
        },
        "id": "F_S_3SQAWSNf",
        "outputId": "eee37549-1d9c-47c6-a7bb-c7c7201a44fe"
      },
      "outputs": [
        {
          "name": "stdout",
          "output_type": "stream",
          "text": [
            "60000\n"
          ]
        }
      ],
      "source": [
        "# Download the MNIST dataset\n",
        "mnist_data = datasets.MNIST(root='data/', download=True, transform=transformation)\n",
        "\n",
        "# Number of images in the dataset: 60,000\n",
        "print(len(mnist_data))\n",
        "\n",
        "# Split the dataset into training and validation sets\n",
        "train_data, valid_data = random_split(mnist_data, [50000, 10000]) "
      ]
    },
    {
      "cell_type": "markdown",
      "metadata": {
        "id": "nS-e0fjlWSNf"
      },
      "source": [
        "Create dataloaders for your train and validation data with ```batch size 16``` and ```shuffle = True``` for train loader."
      ]
    },
    {
      "cell_type": "markdown",
      "metadata": {
        "id": "mpgUOAL9WSNf"
      },
      "source": [
        "<details>\n",
        "<summary>Hint</summary>\n",
        "<br>\n",
        "<a href=\"https://pytorch.org/tutorials/beginner/basics/data_tutorial.html\">DATASETS & DATALOADERS</a>\n",
        "</details>"
      ]
    },
    {
      "cell_type": "code",
      "execution_count": 71,
      "metadata": {
        "id": "4CEUTGaFQI51"
      },
      "outputs": [],
      "source": [
        "###############################################################\n",
        "##           Load the datasets into train/valid              ##\n",
        "##                       dataloaders                         ##\n",
        "###############################################################\n",
        "train_loader = DataLoader(train_data, batch_size=128, shuffle=True)\n",
        "val_loader = DataLoader(valid_data, batch_size=128, shuffle=False)"
      ]
    },
    {
      "cell_type": "markdown",
      "metadata": {
        "id": "HF_40_3rQ5Uv"
      },
      "source": [
        "# Define Model (40 Points)"
      ]
    },
    {
      "cell_type": "markdown",
      "metadata": {
        "id": "wtHgyto2WSNg"
      },
      "source": [
        "### You need to implement a model with the architecture below:\n",
        "[Input: (BS, 1, 28, 28)] -- > [Conv2D (BS, 16, 28, 28)] --> ReLU --> [MaxPool2D (BS, 16, 14, 14): Residual1]\n",
        "\n",
        "--> [Conv2D (BS, 16, 14, 14)] --> ReLU --> [Conv2D (BS, 16, 14, 14)] --> ReLU --> [Addition with Residual1]\n",
        "\n",
        "--> [MaxPool2D (BS, 16, 7, 7)] --> [Conv2D (BS, 64, 7, 7)] --> [ReLU: Residual2]\n",
        "\n",
        "--> [Conv2D (BS, 64, 7, 7)] --> ReLU --> [Conv2D (BS, 64, 7, 7)] --> ReLU --> [Addition with Residual2]\n",
        "\n",
        "--> [GlobalAveragePooling (BS, 64, 1, 1)] --> [Flatten (BS, 64)] --> [Linear (BS, 10)] --> ReLU --> OUT\n",
        "\n",
        "Here you can see the drawn schematic of the architecture, too: [Link](https://drive.google.com/file/d/1gQzafyxTkuvQr8T-xUncLmedX94LnY_l/view?usp=share_link)"
      ]
    },
    {
      "cell_type": "markdown",
      "metadata": {
        "id": "s_ZSOo1WWSNh"
      },
      "source": [
        "<details>\n",
        "<summary>Hint</summary>\n",
        "<br>\n",
        "These might be helpful:\n",
        "<br>\n",
        "<a href=\"https://pytorch.org/docs/stable/generated/torch.clone.html\">TORCH.CLONE</a>\n",
        "<br><br>\n",
        "<a href=\"https://pytorch.org/docs/master/generated/torch.nn.AdaptiveAvgPool2d.html#torch.nn.AdaptiveAvgPool2d\">AdaptiveAvgPool2d</a> with output size (1, 1) for global average pooling\n",
        "<br><br>\n",
        "<a href=\"https://arxiv.org/pdf/1512.03385.pdf\">Deep Residual Learning for Image Recognition</a>\n",
        "</details>"
      ]
    },
    {
      "cell_type": "code",
      "execution_count": 72,
      "metadata": {
        "id": "jQfGVj2rQ90G"
      },
      "outputs": [],
      "source": [
        "#####################################\n",
        "##        Define your model        ##\n",
        "##            Your Code            ##\n",
        "#####################################\n",
        "class ResidualClassifier(nn.Module):\n",
        "    def __init__(self):\n",
        "        super(ResidualClassifier, self).__init__()\n",
        "        self.conv1 = nn.Sequential(\n",
        "            nn.Conv2d(in_channels=1, out_channels=16, kernel_size=3, stride=1, padding=1), # 28x28x16\n",
        "            nn.ReLU(),\n",
        "            nn.MaxPool2d(kernel_size=2, stride=2) # 14x14x16\n",
        "\n",
        "        )\n",
        "        self.conv2 = nn.Sequential(\n",
        "            nn.Conv2d(in_channels=16, out_channels=16, kernel_size=3, stride=1, padding=1), # 14x14x16\n",
        "            nn.ReLU(),\n",
        "            nn.Conv2d(in_channels=16, out_channels=16, kernel_size=3, stride=1, padding=1), # 14x14x16\n",
        "            nn.ReLU()\n",
        "        )\n",
        "        self.conv3 = nn.Sequential(\n",
        "            nn.MaxPool2d(kernel_size=2, stride=2), # 7x7x16\n",
        "            nn.Conv2d(in_channels=16, out_channels=64, kernel_size=3, stride=1, padding=1), # 7x7x64\n",
        "            nn.ReLU()\n",
        "        )\n",
        "        self.conv4 = nn.Sequential(\n",
        "            nn.Conv2d(in_channels=64, out_channels=64, kernel_size=3, stride=1, padding=1), # 7x7x64\n",
        "            nn.ReLU(),\n",
        "            nn.Conv2d(in_channels=64, out_channels=64, kernel_size=3, stride=1, padding=1), # 7x7x64\n",
        "            nn.ReLU(),\n",
        "            nn.BatchNorm2d(64)\n",
        "        )\n",
        "        self.linear = nn.Sequential(\n",
        "            # use gloabal average pooling to reduce the dimensionality to 64x1x1\n",
        "            nn.AdaptiveAvgPool2d((1,1)),\n",
        "            nn.Flatten(),\n",
        "            nn.Linear(64, 10),\n",
        "            nn.ReLU(),\n",
        "            nn.Sigmoid(),\n",
        "            nn.Softmax(dim=1)\n",
        "        )\n",
        "\n",
        "\n",
        "    def forward(self, x):\n",
        "        x = self.conv1(x)\n",
        "        x = x + self.conv2(x)\n",
        "        x = self.conv3(x)\n",
        "        x = x + self.conv4(x)\n",
        "        x = self.linear(x)\n",
        "        return x"
      ]
    },
    {
      "cell_type": "markdown",
      "metadata": {
        "id": "1jZeKXV9Rbq3"
      },
      "source": [
        "# Train Model (30 Points)"
      ]
    },
    {
      "cell_type": "code",
      "execution_count": 76,
      "metadata": {
        "id": "koMk0TkKRazn"
      },
      "outputs": [],
      "source": [
        "######################################################################\n",
        "##        Instantiate model, define hyper parameters, optimizer,    ##\n",
        "##        loss function and etc                                     ##\n",
        "######################################################################\n",
        "model = ResidualClassifier().to(device)\n",
        "criterion = nn.CrossEntropyLoss()\n",
        "optimizer = torch.optim.Adam(model.parameters(), lr=0.001 , weight_decay=1e-5)"
      ]
    },
    {
      "cell_type": "code",
      "execution_count": 77,
      "metadata": {
        "colab": {
          "base_uri": "https://localhost:8080/"
        },
        "id": "k_bo-GEnWSNi",
        "outputId": "ef3776c7-0f57-464a-8ae2-bdc633d22dfd"
      },
      "outputs": [
        {
          "name": "stderr",
          "output_type": "stream",
          "text": [
            "Train 0 | Loss:2.256e+00 | Acc: 0.922|: 100%|██████████| 391/391 [00:12<00:00, 31.76batch/s]\n",
            "Val 0 | Loss:2.250e+00 | Acc: 0.977|: 100%|██████████| 79/79 [00:01<00:00, 39.78batch/s]\n"
          ]
        },
        {
          "name": "stdout",
          "output_type": "stream",
          "text": [
            "----------------------------[Epoch0 finished!]----------------------------\n"
          ]
        },
        {
          "name": "stderr",
          "output_type": "stream",
          "text": [
            "Train 1 | Loss:2.249e+00 | Acc: 0.985|: 100%|██████████| 391/391 [00:12<00:00, 32.00batch/s]\n",
            "Val 1 | Loss:2.249e+00 | Acc: 0.983|: 100%|██████████| 79/79 [00:01<00:00, 39.63batch/s]\n"
          ]
        },
        {
          "name": "stdout",
          "output_type": "stream",
          "text": [
            "----------------------------[Epoch1 finished!]----------------------------\n"
          ]
        },
        {
          "name": "stderr",
          "output_type": "stream",
          "text": [
            "Train 2 | Loss:2.249e+00 | Acc: 0.989|: 100%|██████████| 391/391 [00:12<00:00, 31.55batch/s]\n",
            "Val 2 | Loss:2.249e+00 | Acc: 0.987|: 100%|██████████| 79/79 [00:01<00:00, 40.10batch/s]\n"
          ]
        },
        {
          "name": "stdout",
          "output_type": "stream",
          "text": [
            "----------------------------[Epoch2 finished!]----------------------------\n"
          ]
        },
        {
          "name": "stderr",
          "output_type": "stream",
          "text": [
            "Train 3 | Loss:2.249e+00 | Acc: 0.991|: 100%|██████████| 391/391 [00:12<00:00, 31.76batch/s]\n",
            "Val 3 | Loss:2.249e+00 | Acc: 0.989|: 100%|██████████| 79/79 [00:02<00:00, 39.35batch/s]\n"
          ]
        },
        {
          "name": "stdout",
          "output_type": "stream",
          "text": [
            "----------------------------[Epoch3 finished!]----------------------------\n"
          ]
        },
        {
          "name": "stderr",
          "output_type": "stream",
          "text": [
            "Train 4 | Loss:2.249e+00 | Acc: 0.992|: 100%|██████████| 391/391 [00:12<00:00, 31.95batch/s]\n",
            "Val 4 | Loss:2.249e+00 | Acc: 0.987|: 100%|██████████| 79/79 [00:01<00:00, 39.65batch/s]\n"
          ]
        },
        {
          "name": "stdout",
          "output_type": "stream",
          "text": [
            "----------------------------[Epoch4 finished!]----------------------------\n"
          ]
        },
        {
          "name": "stderr",
          "output_type": "stream",
          "text": [
            "Train 5 | Loss:2.249e+00 | Acc: 0.993|: 100%|██████████| 391/391 [00:12<00:00, 31.64batch/s]\n",
            "Val 5 | Loss:2.249e+00 | Acc: 0.990|: 100%|██████████| 79/79 [00:02<00:00, 38.07batch/s]\n"
          ]
        },
        {
          "name": "stdout",
          "output_type": "stream",
          "text": [
            "----------------------------[Epoch5 finished!]----------------------------\n"
          ]
        },
        {
          "name": "stderr",
          "output_type": "stream",
          "text": [
            "Train 6 | Loss:2.248e+00 | Acc: 0.993|: 100%|██████████| 391/391 [00:12<00:00, 31.94batch/s]\n",
            "Val 6 | Loss:2.249e+00 | Acc: 0.989|: 100%|██████████| 79/79 [00:01<00:00, 39.53batch/s]\n"
          ]
        },
        {
          "name": "stdout",
          "output_type": "stream",
          "text": [
            "----------------------------[Epoch6 finished!]----------------------------\n"
          ]
        },
        {
          "name": "stderr",
          "output_type": "stream",
          "text": [
            "Train 7 | Loss:2.248e+00 | Acc: 0.994|: 100%|██████████| 391/391 [00:12<00:00, 31.19batch/s]\n",
            "Val 7 | Loss:2.249e+00 | Acc: 0.989|: 100%|██████████| 79/79 [00:01<00:00, 39.54batch/s]\n"
          ]
        },
        {
          "name": "stdout",
          "output_type": "stream",
          "text": [
            "----------------------------[Epoch7 finished!]----------------------------\n"
          ]
        },
        {
          "name": "stderr",
          "output_type": "stream",
          "text": [
            "Train 8 | Loss:2.248e+00 | Acc: 0.995|: 100%|██████████| 391/391 [00:12<00:00, 31.89batch/s]\n",
            "Val 8 | Loss:2.249e+00 | Acc: 0.987|: 100%|██████████| 79/79 [00:02<00:00, 39.21batch/s]\n"
          ]
        },
        {
          "name": "stdout",
          "output_type": "stream",
          "text": [
            "----------------------------[Epoch8 finished!]----------------------------\n"
          ]
        },
        {
          "name": "stderr",
          "output_type": "stream",
          "text": [
            "Train 9 | Loss:2.248e+00 | Acc: 0.995|: 100%|██████████| 391/391 [00:12<00:00, 31.97batch/s]\n",
            "Val 9 | Loss:2.249e+00 | Acc: 0.990|: 100%|██████████| 79/79 [00:01<00:00, 40.73batch/s]"
          ]
        },
        {
          "name": "stdout",
          "output_type": "stream",
          "text": [
            "----------------------------[Epoch9 finished!]----------------------------\n"
          ]
        },
        {
          "name": "stderr",
          "output_type": "stream",
          "text": [
            "\n"
          ]
        }
      ],
      "source": [
        "######################################################################\n",
        "##        Train your model (Complete the code below)                ##\n",
        "######################################################################\n",
        "total_step = len(train_loader)\n",
        "num_epochs = 10\n",
        "\n",
        "train_losses = []\n",
        "train_accs = []\n",
        "val_losses = []\n",
        "val_accs = []\n",
        "\n",
        "best_model = None\n",
        "best_acc = 0.0\n",
        "\n",
        "for epoch in range(num_epochs):\n",
        "    train_loss = 0.0\n",
        "    n = 0\n",
        "    model.train()\n",
        "    acc= 0\n",
        "    with tqdm(train_loader, unit='batch') as torch_epoch:\n",
        "        for img, y in torch_epoch:\n",
        "            img = img.to(device)\n",
        "            y = y.to(device)\n",
        "            # going forward and calculate loss\n",
        "            out = model(img)\n",
        "            loss = criterion(out, y)\n",
        "            train_loss += loss.item()\n",
        "            n += 1\n",
        "            # going backward and update parameters\n",
        "            optimizer.zero_grad()\n",
        "            loss.backward()\n",
        "            optimizer.step()\n",
        "            # calculate accuracy  \n",
        "            predicted = torch.argmax(out, dim=1)\n",
        "            acc += (predicted == y).sum().item() / len(y)\n",
        "            torch_epoch.set_description(f'Train {epoch} | Loss:{train_loss/n:.3e} | Acc: {acc/n:.3f}|')\n",
        "    \n",
        "    train_losses.append(train_loss/n)\n",
        "    train_accs.append(acc)\n",
        "\n",
        "    # validate model\n",
        "    val_loss = 0.0\n",
        "    n = 0\n",
        "    model.eval()\n",
        "    acc= 0\n",
        "    with tqdm(val_loader, unit='batch') as torch_epoch:\n",
        "        for img, y in torch_epoch:\n",
        "            img = img.to(device)\n",
        "            y = y.to(device)\n",
        "            # going forward and calculate loss\n",
        "            out = model(img)\n",
        "            loss = criterion(out, y)\n",
        "            val_loss += loss.item()\n",
        "            n += 1\n",
        "            # calculate accuracy  \n",
        "            predicted = torch.argmax(out, dim=1)\n",
        "            acc += (predicted == y).sum().item() / len(y)\n",
        "            torch_epoch.set_description(f'Val {epoch} | Loss:{val_loss/n:.3e} | Acc: {acc/n:.3f}|')\n",
        "    \n",
        "    val_losses.append(val_loss/n)\n",
        "    val_accs.append(acc)\n",
        "    print(f'----------------------------[Epoch{epoch} finished!]----------------------------')"
      ]
    },
    {
      "cell_type": "code",
      "execution_count": 81,
      "metadata": {
        "colab": {
          "base_uri": "https://localhost:8080/",
          "height": 513
        },
        "id": "_YSWvcEGSVor",
        "outputId": "a110611a-06cb-464b-da59-61cdd15f2c4b"
      },
      "outputs": [
        {
          "data": {
            "image/png": "[encoded data removed]",
            "text/plain": [
              "<Figure size 432x288 with 1 Axes>"
            ]
          },
          "metadata": {},
          "output_type": "display_data"
        },
        {
          "data": {
            "image/png": "[encoded data removed]",
            "text/plain": [
              "<Figure size 432x288 with 1 Axes>"
            ]
          },
          "metadata": {},
          "output_type": "display_data"
        }
      ],
      "source": [
        "##############################################################\n",
        "##          Plot metrics graph for different epochs         ##\n",
        "##                        Your Code                         ##\n",
        "##############################################################\n",
        "# plot loss in each epoch\n",
        "plt.plot(train_losses, label='train loss')\n",
        "plt.plot(val_losses, label='val loss')\n",
        "plt.legend()\n",
        "plt.show()\n",
        "\n",
        "# plot accuracy in each epoch\n",
        "plt.plot([i/391 for i in train_accs], label='train acc')\n",
        "plt.plot([i/79 for i in val_accs], label='val acc')\n",
        "plt.legend()\n",
        "plt.show()\n",
        "\n"
      ]
    },
    {
      "cell_type": "markdown",
      "metadata": {
        "id": "LzhCrIFkSE1D"
      },
      "source": [
        "# Test Model (20 Points)"
      ]
    },
    {
      "cell_type": "code",
      "execution_count": 84,
      "metadata": {
        "colab": {
          "base_uri": "https://localhost:8080/"
        },
        "id": "ihixveNISFwE",
        "outputId": "b7842546-101c-47d1-d8d0-c9f9ac80f68c"
      },
      "outputs": [
        {
          "name": "stdout",
          "output_type": "stream",
          "text": [
            "10000\n"
          ]
        },
        {
          "name": "stderr",
          "output_type": "stream",
          "text": [
            "Test | Loss:2.249e+00 | Acc: 0.991|: 100%|██████████| 1/1 [00:01<00:00,  1.65s/batch]\n"
          ]
        }
      ],
      "source": [
        "##################################################\n",
        "##          Test your model on test-set         ##\n",
        "##          and plot confusion matrix           ##\n",
        "##################################################\n",
        "\n",
        "test_data = datasets.MNIST(root='data/', download=True, transform=transformation, train=False)\n",
        "test_loader = DataLoader(test_data, batch_size=10000, shuffle=False)\n",
        "print(len(test_data))\n",
        "\n",
        "test_loss = 0.0\n",
        "n = 0\n",
        "acc = 0\n",
        "model.eval()\n",
        "# we want to see the overall performance of the model on the test set so we use all the test data together\n",
        "with tqdm(test_loader,unit='batch') as torch_epoch:\n",
        "    for x, y in torch_epoch:\n",
        "        x = x.to(device)\n",
        "        y = y.to(device)\n",
        "        # going forward and calculate loss\n",
        "        out = model(x)\n",
        "        loss = criterion(out, y)\n",
        "        test_loss += loss.item()\n",
        "        n += 1\n",
        "        # calculate accuracy  \n",
        "        predicted = torch.argmax(out, dim=1)\n",
        "        acc += (predicted == y).sum().item() / len(y)\n",
        "        torch_epoch.set_description(f'Test | Loss:{test_loss/n:.3e} | Acc: {acc/n:.3f}|')\n"
      ]
    },
    {
      "cell_type": "code",
      "execution_count": 87,
      "metadata": {
        "colab": {
          "base_uri": "https://localhost:8080/",
          "height": 626
        },
        "id": "yhD7r3HoCLv5",
        "outputId": "b3afa8f9-1205-4e3f-c01d-2d9d3f38f839"
      },
      "outputs": [
        {
          "data": {
            "image/png": "[encoded data removed]",
            "text/plain": [
              "<Figure size 720x720 with 2 Axes>"
            ]
          },
          "metadata": {},
          "output_type": "display_data"
        }
      ],
      "source": [
        "# plot confusion matrix\n",
        "confusion = confusion_matrix(y.cpu(), predicted.cpu())\n",
        "plt.figure(figsize=(10,10))\n",
        "plt.title('Confusion Matrix')\n",
        "sn.heatmap(confusion, annot=True, fmt='d', cmap=\"Wistia\")\n",
        "plt.xlabel('Predicted')\n",
        "plt.ylabel('True')\n",
        "plt.show()"
      ]
    }
  ],
  "metadata": {
    "accelerator": "GPU",
    "colab": {
      "provenance": []
    },
    "gpuClass": "standard",
    "kernelspec": {
      "display_name": "Python 3.10.6 64-bit",
      "language": "python",
      "name": "python3"
    },
    "language_info": {
      "codemirror_mode": {
        "name": "ipython",
        "version": 3
      },
      "file_extension": ".py",
      "mimetype": "text/x-python",
      "name": "python",
      "nbconvert_exporter": "python",
      "pygments_lexer": "ipython3",
      "version": "3.10.6"
    },
    "varInspector": {
      "cols": {
        "lenName": 16,
        "lenType": 16,
        "lenVar": 40
      },
      "kernels_config": {
        "python": {
          "delete_cmd_postfix": "",
          "delete_cmd_prefix": "del ",
          "library": "var_list.py",
          "varRefreshCmd": "print(var_dic_list())"
        },
        "r": {
          "delete_cmd_postfix": ") ",
          "delete_cmd_prefix": "rm(",
          "library": "var_list.r",
          "varRefreshCmd": "cat(var_dic_list()) "
        }
      },
      "types_to_exclude": [
        "module",
        "function",
        "builtin_function_or_method",
        "instance",
        "_Feature"
      ],
      "window_display": false
    },
    "vscode": {
      "interpreter": {
        "hash": "916dbcbb3f70747c44a77c7bcd40155683ae19c65e1c03b4aa3499c5328201f1"
      }
    }
  },
  "nbformat": 4,
  "nbformat_minor": 0
}
